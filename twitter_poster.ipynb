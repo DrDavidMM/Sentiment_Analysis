{
 "cells": [
  {
   "cell_type": "code",
   "execution_count": 1,
   "metadata": {},
   "outputs": [],
   "source": [
    "import os\n",
    "import re\n",
    "import sys\n",
    "import time\n",
    "import tweepy\n",
    "import json\n",
    "import datetime \n",
    "import collections\n",
    "import numpy as np\n",
    "import pandas as pd\n",
    "import dateutil.parser\n",
    "from collections import Counter\n",
    "from tweepy import OAuthHandler\n",
    "from apscheduler.schedulers.blocking import BlockingScheduler"
   ]
  },
  {
   "cell_type": "code",
   "execution_count": null,
   "metadata": {},
   "outputs": [],
   "source": [
    "def poster():\n",
    "\n",
    "    log = pd.read_csv('Login.csv')\n",
    "    consumerKey = log['key'][0]\n",
    "    consumerSecret = log['key'][1]\n",
    "    accesToken = log['key'][2]\n",
    "    accesTokenSecret = log['key'][3]\n",
    "    bearer_token = log['key'][4]\n",
    "    authenticate = tweepy.OAuthHandler(consumerKey, consumerSecret)\n",
    "    authenticate.set_access_token(accesToken, accesTokenSecret)\n",
    "    api = tweepy.API(authenticate, wait_on_rate_limit = True)\n",
    "    client = tweepy.Client(consumer_key = consumerKey, consumer_secret = consumerSecret, access_token = accesToken, access_token_secret = accesTokenSecret)\n",
    "\n",
    "    #Mexico woeid = 23424900\n",
    "    #CDMX woeid = 116545\n",
    "    #US woeid = 23424977\n",
    "    #NewYork woeid = 2459115\n",
    "    #London woeid = 44418\n",
    "    #World woeid = 1\n",
    "\n",
    "    woeid = 23424977\n",
    "    trend_name_lst = []\n",
    "    trend_count_lst = []\n",
    "    trends = api.get_place_trends(id = woeid)\n",
    "\n",
    "    for value in trends:\n",
    "        for trend in value['trends']:\n",
    "            trend_name_lst.append(trend['name'])\n",
    "            trend_count_lst.append(trend['tweet_volume'])\n",
    "\n",
    "    df_trend = pd.DataFrame(trend_name_lst, columns=['trend'])\n",
    "    df_trend['count'] = trend_count_lst\n",
    "    df_trend['date'] = datetime.date.today()\n",
    "    df_trend.to_csv('trend.csv')\n",
    "    df_trend_asc = df_trend.sort_values(\"count\", ascending=False)\n",
    "    hashtag_lst = []\n",
    "\n",
    "    for trend in df_trend_asc['trend']:\n",
    "\n",
    "        hashtag = re.findall(r'#\\w+', trend)\n",
    "        hashtag_lst.append(hashtag)\n",
    "\n",
    "    df_hashtags = pd.DataFrame(hashtag_lst, columns=['hashtags'])\n",
    "    df_hashtags_clean = df_hashtags.dropna()\n",
    "    df_hashtags_clean\n",
    "\n",
    "    monkey_tweet_text = 'Want the best nudes with no BS? Follow the Monkey: https://t.me/Th3StashNetwork'\n",
    "    space = ' '\n",
    "    monkey_hashtags_list = []\n",
    "\n",
    "    for element in df_hashtags_clean['hashtags']:\n",
    "        monkey_hashtags_list.append(element)\n",
    "\n",
    "    monkey_hashtags = ' '.join([str(item) for item in monkey_hashtags_list ])\n",
    "    monkey_tweet = monkey_tweet_text + space + '\\n' + monkey_hashtags\n",
    "\n",
    "    response = client.create_tweet(text = monkey_tweet)\n",
    "    print(response)\n",
    "\n",
    "\n",
    "scheduler = BlockingScheduler()\n",
    "scheduler.add_job(poster, 'interval', seconds=10)\n",
    "scheduler.start()"
   ]
  }
 ],
 "metadata": {
  "kernelspec": {
   "display_name": "Python 3.10.5 ('TwitterEnv': venv)",
   "language": "python",
   "name": "python3"
  },
  "language_info": {
   "codemirror_mode": {
    "name": "ipython",
    "version": 3
   },
   "file_extension": ".py",
   "mimetype": "text/x-python",
   "name": "python",
   "nbconvert_exporter": "python",
   "pygments_lexer": "ipython3",
   "version": "3.10.5"
  },
  "orig_nbformat": 4,
  "vscode": {
   "interpreter": {
    "hash": "b6e6d1d16b128e140cf2532ea76bf44d9da7e683789e7371ff0be5550b25a624"
   }
  }
 },
 "nbformat": 4,
 "nbformat_minor": 2
}
